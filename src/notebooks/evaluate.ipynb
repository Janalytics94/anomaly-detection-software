{
 "cells": [
  {
   "cell_type": "markdown",
   "metadata": {},
   "source": [
    "# Evaluation\n",
    "\n",
    "This Notebook contains the evaluation of all used machine learning models during this project. \\\n",
    "Evaluation and Validation will be performed on the test and validation data "
   ]
  },
  {
   "cell_type": "code",
   "execution_count": 1,
   "metadata": {},
   "outputs": [
    {
     "data": {
      "text/html": [
       "        <script type=\"text/javascript\">\n",
       "        window.PlotlyConfig = {MathJaxConfig: 'local'};\n",
       "        if (window.MathJax && window.MathJax.Hub && window.MathJax.Hub.Config) {window.MathJax.Hub.Config({SVG: {font: \"STIX-Web\"}});}\n",
       "        if (typeof require !== 'undefined') {\n",
       "        require.undef(\"plotly\");\n",
       "        requirejs.config({\n",
       "            paths: {\n",
       "                'plotly': ['https://cdn.plot.ly/plotly-2.14.0.min']\n",
       "            }\n",
       "        });\n",
       "        require(['plotly'], function(Plotly) {\n",
       "            window._Plotly = Plotly;\n",
       "        });\n",
       "        }\n",
       "        </script>\n",
       "        "
      ]
     },
     "metadata": {},
     "output_type": "display_data"
    }
   ],
   "source": [
    "# Imports \n",
    "import sys\n",
    "sys.path.append(\"..\")\n",
    "import pandas as pd \n",
    "import matplotlib.pyplot as plt\n",
    "from model.helpers import *\n",
    "from model.predict import *\n",
    "from collections import defaultdict\n",
    "from sklearn.metrics import (\n",
    "    roc_curve, auc, \n",
    "    precision_score,\n",
    "    roc_auc_score,\n",
    "    recall_score,\n",
    "    brier_score_loss, \n",
    "    f1_score, \n",
    "    confusion_matrix)\n",
    "\n",
    "from plotly.offline import init_notebook_mode\n",
    "import matplotlib.pyplot as plt\n",
    "import warnings  \n",
    "warnings.filterwarnings('ignore')\n",
    "\n",
    "init_notebook_mode(connected=True)"
   ]
  },
  {
   "cell_type": "code",
   "execution_count": 2,
   "metadata": {},
   "outputs": [],
   "source": [
    "#load data \n",
    "TRAIN = {}\n",
    "TEST = {}\n",
    "VALIDATION = {}\n",
    "\n",
    "path = \"../../data/interim/raw\"\n",
    "train = \"train_\"\n",
    "test = \"test_\"\n",
    "validation = \"validation_\"\n",
    "#  list of scenarios\n",
    "scenarios = [\n",
    "        'CVE-2012-2122',\n",
    "        'CVE-2014-0160',\n",
    "        'CVE-2017-7529',\n",
    "        'CVE-2017-12635_6',\n",
    "        'CVE-2018-3760',\n",
    "        'CVE-2019-5418',\n",
    "        'CVE-2020-9484',\n",
    "        'CVE-2020-13942',\n",
    "        'CVE-2020-23839',\n",
    "        'CWE-89-SQL-injection'\n",
    "]\n",
    "\n",
    "for i in range(0,len(scenarios)):\n",
    "    TRAIN[scenarios[i]]= pd.read_pickle(path + \"/\" + train + scenarios[i] + \".pkl\")\n",
    "    TEST[scenarios[i]] = pd.read_pickle(path + \"/\" + test + scenarios[i] + \".pkl\")\n",
    "    VALIDATION[scenarios[i]] = pd.read_pickle(path + \"/\" + validation + scenarios[i] + \".pkl\")\n",
    "            "
   ]
  },
  {
   "cell_type": "code",
   "execution_count": 3,
   "metadata": {},
   "outputs": [],
   "source": [
    "# load each model for each Scenario\n",
    "model_type ='KMEANS'\n",
    "kmeans_ = {}\n",
    "for i in range(0, len(scenarios)):\n",
    "# get dict and save mofel for each scenario\n",
    "    kmeans_[scenarios[i]] = load_model(model_type=model_type, data=TRAIN, scenario=scenarios[i])\n",
    "\n",
    "\n",
    "model_type ='IsolationForest'\n",
    "IsoForests = {}\n",
    "for i in range(0, len(scenarios)):\n",
    "# get dict and save mofel for each scenario\n",
    "    IsoForests[scenarios[i]] = load_model(model_type=model_type, data=TRAIN, scenario=scenarios[i])\n",
    "\n",
    "model_type ='ExtendedIsolationForest'\n",
    "E_IsoForests = {}\n",
    "for i in range(0, len(scenarios)):\n",
    "# get dict and save mofel for each scenario\n",
    "    E_IsoForests[scenarios[i]] = load_model(model_type=model_type, data=TRAIN, scenario=scenarios[i])\n",
    "\n",
    "\n",
    "model_type ='LocalOutlierFactor'\n",
    "lof_ = {}\n",
    "for i in range(0, len(scenarios)):\n",
    "# get dict and save mofel for each scenario\n",
    "    lof_[scenarios[i]] = load_model(model_type=model_type, data=TRAIN, scenario=scenarios[i])\n",
    "\n",
    "\n",
    "model_type ='DBSCAN'\n",
    "dbscan_ = {}\n",
    "for i in range(0, len(scenarios)):\n",
    "# get dict and save mofel for each scenario\n",
    "    dbscan_[scenarios[i]] = load_model(model_type=model_type, data=TRAIN, scenario=scenarios[i])\n",
    "\n",
    "\n",
    "model_type ='SVM'\n",
    "svm_ = {}\n",
    "for i in range(0, len(scenarios)):\n",
    "# get dict and save mofel for each scenario\n",
    "    svm_[scenarios[i]] = load_model(model_type=model_type, data=TRAIN, scenario=scenarios[i])"
   ]
  },
  {
   "cell_type": "code",
   "execution_count": 8,
   "metadata": {},
   "outputs": [],
   "source": [
    "# get true values to evaluate algorithm\n",
    "y_true = {}\n",
    "for i in range(0, len(scenarios)):\n",
    "    y_true[scenarios[i]] = encode(TEST[scenarios[i]])['exploit'] # remember 0 = inliners, 1 = outliers\n",
    "    # encode to fit Isolation Forest predicitons \n",
    "    y_true[scenarios[i]] = y_true[scenarios[i]].mask(y_true[scenarios[i]]==1, -1) # now # remember -1 outliers\n",
    "    y_true[scenarios[i]]  = y_true[scenarios[i]].mask(y_true[scenarios[i]]==0,  1) # 1 = inliners\n",
    " "
   ]
  },
  {
   "cell_type": "code",
   "execution_count": 11,
   "metadata": {},
   "outputs": [
    {
     "ename": "AttributeError",
     "evalue": "'DBSCAN' object has no attribute 'decision_function'",
     "output_type": "error",
     "traceback": [
      "\u001b[0;31m---------------------------------------------------------------------------\u001b[0m",
      "\u001b[0;31mAttributeError\u001b[0m                            Traceback (most recent call last)",
      "Input \u001b[0;32mIn [11]\u001b[0m, in \u001b[0;36m<cell line: 12>\u001b[0;34m()\u001b[0m\n\u001b[1;32m     11\u001b[0m plt\u001b[38;5;241m.\u001b[39mfigure(figsize\u001b[38;5;241m=\u001b[39m(\u001b[38;5;241m12\u001b[39m, \u001b[38;5;241m6\u001b[39m))\n\u001b[1;32m     12\u001b[0m \u001b[38;5;28;01mfor\u001b[39;00m a, algo \u001b[38;5;129;01min\u001b[39;00m \u001b[38;5;28menumerate\u001b[39m(algorithms):\n\u001b[0;32m---> 13\u001b[0m    algo_test \u001b[38;5;241m=\u001b[39m \u001b[43malgo\u001b[49m\u001b[38;5;241;43m.\u001b[39;49m\u001b[43mdecision_function\u001b[49m(X_test)\n\u001b[1;32m     14\u001b[0m    \u001b[38;5;66;03m# algo_validation = algo.decision_function(X_validation)\u001b[39;00m\n\u001b[1;32m     15\u001b[0m \n\u001b[1;32m     16\u001b[0m    \u001b[38;5;66;03m# as only one class available auc does not work -> Brier Score!\u001b[39;00m\n\u001b[1;32m     17\u001b[0m    \u001b[38;5;66;03m#fpr_train_, tpr_train_, _ = roc_curve(y_true_train, -algo_train)\u001b[39;00m\n\u001b[1;32m     18\u001b[0m    \u001b[38;5;66;03m#algo_auc_train = auc(fpr_train_, tpr_train_)\u001b[39;00m\n\u001b[1;32m     20\u001b[0m    fpr_test_, tpr_test_, _ \u001b[38;5;241m=\u001b[39m roc_curve(y_true[scenario], \u001b[38;5;241m-\u001b[39malgo_test, pos_label\u001b[38;5;241m=\u001b[39m\u001b[38;5;241m1\u001b[39m) \u001b[38;5;66;03m# Kommt drauf an wie rum(?) nochmal genau reinschauen \u001b[39;00m\n",
      "\u001b[0;31mAttributeError\u001b[0m: 'DBSCAN' object has no attribute 'decision_function'"
     ]
    },
    {
     "data": {
      "image/png": "[encoded data removed]",
      "text/plain": [
       "<Figure size 1200x600 with 1 Axes>"
      ]
     },
     "metadata": {},
     "output_type": "display_data"
    }
   ],
   "source": [
    "# Scenario CVE-2012-2122\n",
    "scenario = \"CVE-2012-2122\"\n",
    "# prepare test data \n",
    "X_test = TEST[scenario]\n",
    "X_test = select_columns_for_modelling(X_test)\n",
    "\n",
    "algorithms = [ IsoForests[scenario], lof_[scenario] ] #kmeans_[scenario] # E_IsoForests[scenario], 'DBSCAN', 'SVM']\n",
    "name = ['IsolationForest',  'LocalOutlierFactor'] #'DBSCAN', 'SVM']#'KMEANS', #'ExtendedIsolationForest'\n",
    "colors = ['red', 'green', 'blue', 'fuchsia', 'darkviolet']\n",
    "\n",
    "plt.figure(figsize=(12, 6))\n",
    "for a, algo in enumerate(algorithms):\n",
    "   algo_test = algo.decision_function(X_test)\n",
    "   # algo_validation = algo.decision_function(X_validation)\n",
    "\n",
    "   # as only one class available auc does not work -> Brier Score!\n",
    "   #fpr_train_, tpr_train_, _ = roc_curve(y_true_train, -algo_train)\n",
    "   #algo_auc_train = auc(fpr_train_, tpr_train_)\n",
    "    \n",
    "   fpr_test_, tpr_test_, _ = roc_curve(y_true[scenario], -algo_test, pos_label=1) # Kommt drauf an wie rum(?) nochmal genau reinschauen \n",
    "   algo_auc_test = auc(fpr_test_, tpr_test_)\n",
    "\n",
    "   # as only one class available auc does not work -> Brier Score!\n",
    "   #fpr_validation_, tpr_validation_, _ = roc_curve(y_true_validation, -algo_validation)\n",
    "   #algo_auc_validation = auc(fpr_validation_, tpr_validation_)\n",
    "\n",
    "   #plt.subplot(1, 2, 1)\n",
    "   #plt.title('Performance on Training set')\n",
    "   #plt.plot(fpr_train_, tpr_train_, color=colors[a], label= '{0} - AUC: {1:.3f}'.format(name[a], algo_auc_train))\n",
    "    \n",
    "   plt.subplot(1, 2, 2)\n",
    "   plt.title('Performance on Test set')\n",
    "   plt.plot(fpr_test_, tpr_test_, color=colors[a], label= '{0} - AMV: {1:.3f}'.format(name[a], algo_auc_test)) #AMV: Augmented Mass Volume Function # AUC ohne 1\n",
    "    \n",
    "   #plt.subplot(1, 2, 1)\n",
    "   #plt.title('Performance on Validation set')\n",
    "   #plt.plot(fpr_validation_, tpr_validation_, color=colors[a], label= '{0} - AUC: {1:.3f}'.format(name[a], algo_auc_validation))\n",
    "    \n",
    "\n",
    "\n",
    "plt.subplot(1, 2, 2)\n",
    "plt.legend(loc=0)\n",
    "plt.xlim((-0.05, 1.05))\n",
    "plt.ylim((-0.05, 1.05))\n",
    "\n",
    "plt.show()"
   ]
  },
  {
   "cell_type": "code",
   "execution_count": 7,
   "metadata": {},
   "outputs": [
    {
     "data": {
      "text/plain": [
       "[KMeans(n_clusters=2),\n",
       " IsolationForest(n_jobs=-1, random_state=42),\n",
       " <eif.iForest at 0x15310b8b0>,\n",
       " LocalOutlierFactor(contamination=0.1532595823344213, n_jobs=-1, novelty=True),\n",
       " DBSCAN(),\n",
       " <module 'sklearn.svm' from '/Users/janavihs/.pyenv/versions/3.9.4/lib/python3.9/site-packages/sklearn/svm/__init__.py'>]"
      ]
     },
     "execution_count": 7,
     "metadata": {},
     "output_type": "execute_result"
    }
   ],
   "source": [
    "algorithms"
   ]
  },
  {
   "cell_type": "code",
   "execution_count": null,
   "metadata": {},
   "outputs": [],
   "source": []
  }
 ],
 "metadata": {
  "interpreter": {
   "hash": "a44f376b57d45d29a9912107e840c363fa2f9b3e8d3bc732ddcab4b4559e3e3b"
  },
  "kernelspec": {
   "display_name": "Python 3.9.4 64-bit ('3.9.4')",
   "language": "python",
   "name": "python3"
  },
  "language_info": {
   "codemirror_mode": {
    "name": "ipython",
    "version": 3
   },
   "file_extension": ".py",
   "mimetype": "text/x-python",
   "name": "python",
   "nbconvert_exporter": "python",
   "pygments_lexer": "ipython3",
   "version": "3.9.4"
  },
  "orig_nbformat": 4
 },
 "nbformat": 4,
 "nbformat_minor": 2
}
