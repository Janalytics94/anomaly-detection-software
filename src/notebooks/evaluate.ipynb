{
 "cells": [
  {
   "cell_type": "markdown",
   "metadata": {},
   "source": [
    "# Evaluation\n",
    "\n",
    "This Notebook contains the evaluation of all used machine learning models during this project. \\\n",
    "Evaluation and Validation will be performed on the test and validation data "
   ]
  },
  {
   "cell_type": "code",
   "execution_count": 3,
   "metadata": {},
   "outputs": [
    {
     "data": {
      "text/html": [
       "        <script type=\"text/javascript\">\n",
       "        window.PlotlyConfig = {MathJaxConfig: 'local'};\n",
       "        if (window.MathJax && window.MathJax.Hub && window.MathJax.Hub.Config) {window.MathJax.Hub.Config({SVG: {font: \"STIX-Web\"}});}\n",
       "        if (typeof require !== 'undefined') {\n",
       "        require.undef(\"plotly\");\n",
       "        requirejs.config({\n",
       "            paths: {\n",
       "                'plotly': ['https://cdn.plot.ly/plotly-2.14.0.min']\n",
       "            }\n",
       "        });\n",
       "        require(['plotly'], function(Plotly) {\n",
       "            window._Plotly = Plotly;\n",
       "        });\n",
       "        }\n",
       "        </script>\n",
       "        "
      ]
     },
     "metadata": {},
     "output_type": "display_data"
    }
   ],
   "source": [
    "# Imports \n",
    "import pandas as pd \n",
    "import matplotlib.pyplot as plt\n",
    "#from model.helpers import *\n",
    "#from model.predict import *\n",
    "from collections import defaultdict\n",
    "from sklearn.metrics import (\n",
    "    roc_curve, auc, \n",
    "    precision_score,\n",
    "    roc_auc_score,\n",
    "    recall_score,\n",
    "    brier_score_loss, \n",
    "    f1_score, \n",
    "    confusion_matrix, \n",
    "    ConfusionMatrixDisplay)\n",
    "\n",
    "from plotly.offline import init_notebook_mode\n",
    "import matplotlib.pyplot as plt\n",
    "import warnings  \n",
    "warnings.filterwarnings('ignore')\n",
    "\n",
    "init_notebook_mode(connected=True)"
   ]
  },
  {
   "cell_type": "code",
   "execution_count": null,
   "metadata": {},
   "outputs": [],
   "source": []
  },
  {
   "cell_type": "code",
   "execution_count": null,
   "metadata": {},
   "outputs": [],
   "source": [
    "algorithms = [KMEANS, IsoForest, E_IsoForest, LOF, DBSCAN, SVM ]\n",
    "name = ['KMEANS', 'IsolationForest', 'ExtendedIsolationForest' 'LocalOutlierFactor', 'DBSCAN', 'SVM']\n",
    "colors = ['red', 'green', 'blue', 'fuchsia', 'darkviolet', 'deepskyblue']\n",
    "\n",
    "plt.figure(figsize=(12, 6))\n",
    "for a, algo in enumerate(algorithms):\n",
    "    algo.fit(X_train) # fit on test_data  \n",
    "    algo_train = algo.decision_function(X_train)\n",
    "    algo_test = algo.decision_function(X_test)\n",
    "    algo_validation = algo.decision_function(X_validation)\n",
    "\n",
    "    # as only one class available auc does not work -> Brier Score!\n",
    "    #fpr_train_, tpr_train_, _ = roc_curve(y_true_train, -algo_train)\n",
    "    #algo_auc_train = auc(fpr_train_, tpr_train_)\n",
    "    \n",
    "    fpr_test_, tpr_test_, _ = roc_curve(y_true, -algo_train, pos_label=1) # Kommt drauf an wie rum(?) nochmal genau reinschauen \n",
    "    algo_auc_test = auc(fpr_test_, tpr_test_)\n",
    "\n",
    "    # as only one class available auc does not work -> Brier Score!\n",
    "    #fpr_validation_, tpr_validation_, _ = roc_curve(y_true_validation, -algo_validation)\n",
    "    #algo_auc_validation = auc(fpr_validation_, tpr_validation_)\n",
    "\n",
    "    #plt.subplot(1, 2, 1)\n",
    "    #plt.title('Performance on Training set')\n",
    "    #plt.plot(fpr_train_, tpr_train_, color=colors[a], label= '{0} - AUC: {1:.3f}'.format(name[a], algo_auc_train))\n",
    "    \n",
    "    plt.subplot(1, 2, 2)\n",
    "    plt.title('Performance on Test set')\n",
    "    plt.plot(fpr_test_, tpr_test_, color=colors[a], label= '{0} - AMV: {1:.3f}'.format(name[a], algo_auc_test)) #AMV: Augmented Mass Volume Function # AUC ohne 1\n",
    "    \n",
    "    #plt.subplot(1, 2, 1)\n",
    "    #plt.title('Performance on Validation set')\n",
    "    #plt.plot(fpr_validation_, tpr_validation_, color=colors[a], label= '{0} - AUC: {1:.3f}'.format(name[a], algo_auc_validation))\n",
    "    \n",
    "\n",
    "\n",
    "plt.subplot(1, 2, 2)\n",
    "plt.legend(loc=0)\n",
    "plt.xlim((-0.05, 1.05))\n",
    "plt.ylim((-0.05, 1.05))\n",
    "\n",
    "\n",
    "\n",
    "plt.show()"
   ]
  }
 ],
 "metadata": {
  "interpreter": {
   "hash": "a44f376b57d45d29a9912107e840c363fa2f9b3e8d3bc732ddcab4b4559e3e3b"
  },
  "kernelspec": {
   "display_name": "Python 3.9.4 64-bit ('3.9.4')",
   "language": "python",
   "name": "python3"
  },
  "language_info": {
   "codemirror_mode": {
    "name": "ipython",
    "version": 3
   },
   "file_extension": ".py",
   "mimetype": "text/x-python",
   "name": "python",
   "nbconvert_exporter": "python",
   "pygments_lexer": "ipython3",
   "version": "3.9.4"
  },
  "orig_nbformat": 4
 },
 "nbformat": 4,
 "nbformat_minor": 2
}
