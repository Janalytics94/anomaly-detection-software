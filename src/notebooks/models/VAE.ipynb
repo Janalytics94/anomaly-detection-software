{
 "cells": [
  {
   "cell_type": "markdown",
   "metadata": {},
   "source": [
    "# Variational Autoencoders"
   ]
  },
  {
   "cell_type": "markdown",
   "metadata": {},
   "source": []
  },
  {
   "cell_type": "code",
   "execution_count": null,
   "metadata": {},
   "outputs": [],
   "source": [
    "#Imports \n",
    "import sys\n",
    "sys.path.append(\"../../\") \n",
    "from sklearn.metrics import confusion_matrix, classification_report\n",
    "from model.predict import *\n",
    "from model.helpers import *\n",
    "import pandas as pd \n",
    "import matplotlib.pyplot as plt\n",
    "import seaborn as sns\n",
    "import warnings\n",
    "warnings.filterwarnings('ignore')"
   ]
  },
  {
   "cell_type": "code",
   "execution_count": null,
   "metadata": {},
   "outputs": [],
   "source": [
    "#load data \n",
    "TRAIN = {}\n",
    "TEST = {}\n",
    "VALIDATION = {}\n",
    "\n",
    "path = \"../../../data/interim/raw\"\n",
    "train = \"train_\"\n",
    "test = \"test_\"\n",
    "validation = \"validation_\"\n",
    "#  list of scenarios\n",
    "scenarios = [\n",
    "        'CVE-2012-2122',\n",
    "        'CVE-2014-0160',\n",
    "        'CVE-2017-7529',\n",
    "        'CVE-2017-12635_6',\n",
    "        'CVE-2018-3760',\n",
    "        'CVE-2019-5418',\n",
    "        'CVE-2020-9484',\n",
    "        'CVE-2020-13942',\n",
    "        'CVE-2020-23839',\n",
    "        'CWE-89-SQL-injection'\n",
    "]\n",
    "\n",
    "for i in range(0,len(scenarios)):\n",
    "    TRAIN[scenarios[i]]= pd.read_pickle(path + \"/\" + train + scenarios[i] + \".pkl\")\n",
    "    TEST[scenarios[i]] = pd.read_pickle(path + \"/\" + test + scenarios[i] + \".pkl\")\n",
    "    VALIDATION[scenarios[i]] = pd.read_pickle(path + \"/\" + validation + scenarios[i] + \".pkl\")\n",
    "            "
   ]
  },
  {
   "cell_type": "code",
   "execution_count": null,
   "metadata": {},
   "outputs": [],
   "source": [
    "models = {}\n",
    "for i in range(0,len(scenarios)):\n",
    "    models[scenarios[i]] = load_model(model_type='VariationalAutoencoder', data=TRAIN, scenario=scenarios[i])"
   ]
  }
 ],
 "metadata": {
  "language_info": {
   "name": "python"
  },
  "orig_nbformat": 4
 },
 "nbformat": 4,
 "nbformat_minor": 2
}
