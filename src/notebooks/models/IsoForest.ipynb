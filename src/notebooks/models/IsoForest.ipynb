{
 "cells": [
  {
   "cell_type": "markdown",
   "metadata": {},
   "source": [
    "# Isolation Forest"
   ]
  },
  {
   "cell_type": "markdown",
   "metadata": {},
   "source": []
  },
  {
   "cell_type": "code",
   "execution_count": 2,
   "metadata": {},
   "outputs": [],
   "source": [
    "#Imports\n",
    "import sys\n",
    "sys.path.append(\"../../\") \n",
    "from model.predict import *\n",
    "import pandas as pd \n",
    "import matplotlib.pyplot as plt\n",
    "import seaborn as sns"
   ]
  },
  {
   "cell_type": "code",
   "execution_count": 3,
   "metadata": {},
   "outputs": [],
   "source": [
    "#load data \n",
    "TRAIN = {}\n",
    "TEST = {}\n",
    "VALIDATION = {}\n",
    "\n",
    "path = \"../../../data/interim/raw\"\n",
    "train = \"train_\"\n",
    "test = \"test_\"\n",
    "validation = \"validation_\"\n",
    "#  list of scenarios\n",
    "scenarios = [\n",
    "        'CVE-2012-2122',\n",
    "        'CVE-2014-0160',\n",
    "        'CVE-2017-7529',\n",
    "        'CVE-2017-12635_6',\n",
    "        'CVE-2018-3760',\n",
    "        'CVE-2019-5418',\n",
    "        'CVE-2020-9484',\n",
    "        'CVE-2020-13942',\n",
    "        'CVE-2020-23839',\n",
    "        'CWE-89-SQL-injection'\n",
    "]\n",
    "\n",
    "for i in range(0,len(scenarios)):\n",
    "    TRAIN[scenarios[i]]= pd.read_pickle(path + \"/\" + train + scenarios[i] + \".pkl\")\n",
    "    TEST[scenarios[i]] = pd.read_pickle(path + \"/\" + test + scenarios[i] + \".pkl\")\n",
    "    VALIDATION[scenarios[i]] = pd.read_pickle(path + \"/\" + validation + scenarios[i] + \".pkl\")\n",
    "            "
   ]
  },
  {
   "cell_type": "code",
   "execution_count": 5,
   "metadata": {},
   "outputs": [
    {
     "name": "stderr",
     "output_type": "stream",
     "text": [
      "/Users/janavihs/.pyenv/versions/3.9.4/lib/python3.9/site-packages/sklearn/base.py:450: UserWarning: X does not have valid feature names, but IsolationForest was fitted with feature names\n",
      "  warnings.warn(\n"
     ]
    }
   ],
   "source": [
    "# load model \n",
    "IsoForest = load_model(model_type='IsolationForest', data=TRAIN, scenario='CVE-2012-2122')"
   ]
  }
 ],
 "metadata": {
  "interpreter": {
   "hash": "a44f376b57d45d29a9912107e840c363fa2f9b3e8d3bc732ddcab4b4559e3e3b"
  },
  "kernelspec": {
   "display_name": "Python 3.9.4 64-bit ('3.9.4')",
   "language": "python",
   "name": "python3"
  },
  "language_info": {
   "codemirror_mode": {
    "name": "ipython",
    "version": 3
   },
   "file_extension": ".py",
   "mimetype": "text/x-python",
   "name": "python",
   "nbconvert_exporter": "python",
   "pygments_lexer": "ipython3",
   "version": "3.9.4"
  },
  "orig_nbformat": 4
 },
 "nbformat": 4,
 "nbformat_minor": 2
}
