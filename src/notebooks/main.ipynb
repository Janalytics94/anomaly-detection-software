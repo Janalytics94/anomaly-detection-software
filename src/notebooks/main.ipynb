{
 "cells": [
  {
   "cell_type": "markdown",
   "metadata": {},
   "source": [
    "# Anomaly Detection for Software Vulnerabilities \n",
    "## An approach to evaluate a data set if it represents normal behaviour\n",
    "\n",
    "*What is Normal Behaviour?*\n",
    "\n",
    "When testing software, especially in the area of dynamic analysis, the goal is to uncover vulnerabilities that occur as a function of dynamic runtime parameters, such as varying input parameters, runtime environment, or user interaction. In our case, we are interested in how the runtime environment of our system under test behaves depending on these test strategies. **By normal behavior in this context, we mean the behavior of our system during testing to trigger and detect possible vulnerabilities.** By recording the runtime parameters, machine learning models can be used in the anomaly detection domain to predict and diagnose faulty behavior. These models make it possible to focus on behaviors where errors would have the greatest impact, as well as unlikely behaviors where previously undetected errors may lie. Ultimately, deviations from normal behavior in safety and reliability can be identified, revealing erroneous or even malicious behavior.\n",
    "Reducing these anomalies ensures a more robust application.\n",
    "\n",
    "\n",
    "\n",
    "\n",
    "\n",
    "* Is the behaviour actually regular?\n",
    "* How can you model the behaviour?\n",
    "* How do you define a major deviation from your expectation?\n",
    "* Is it actually valuable to detect surprises and deviations from your expectation?"
   ]
  },
  {
   "cell_type": "markdown",
   "metadata": {},
   "source": []
  }
 ],
 "metadata": {
  "language_info": {
   "name": "python"
  },
  "orig_nbformat": 4
 },
 "nbformat": 4,
 "nbformat_minor": 2
}
